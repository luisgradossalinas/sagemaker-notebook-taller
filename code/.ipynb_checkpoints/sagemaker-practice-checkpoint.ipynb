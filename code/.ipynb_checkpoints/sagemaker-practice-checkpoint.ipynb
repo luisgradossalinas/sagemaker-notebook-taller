{
 "cells": [
  {
   "cell_type": "markdown",
   "metadata": {},
   "source": [
    "# Implementation with Step Functions\n",
    "\n",
    "Ahora que tenemos nuestro proyecto de ciencia de datos construido, queremos implementarlo de una manera sólida y repetible. Para esto, implementaremos el ETL usando AWS Glue, y luego entrenaremos y transformaremos por lotes la entrada usando la integración de SageMaker con Amazon Step Functions.\n",
    "\n",
    "Este cuaderno lo guiará a través de este proceso paso a paso.\n",
    "\n",
    "Pero primero debe crear o configurar su propio cubo. El SDK de SageMaker es una buena forma de empezar.\n",
    "\n",
    "## 1. Subiendo archivos al bucket S3 external"
   ]
  },
  {
   "cell_type": "code",
   "execution_count": 1,
   "metadata": {},
   "outputs": [],
   "source": [
    "import boto3, os"
   ]
  },
  {
   "cell_type": "code",
   "execution_count": 2,
   "metadata": {},
   "outputs": [
    {
     "name": "stderr",
     "output_type": "stream",
     "text": [
      "/home/ec2-user/anaconda3/envs/python3/lib/python3.6/site-packages/boto3/compat.py:88: PythonDeprecationWarning: Boto3 will no longer support Python 3.6 starting May 30, 2022. To continue receiving service updates, bug fixes, and security updates please upgrade to Python 3.7 or later. More information can be found here: https://aws.amazon.com/blogs/developer/python-support-policy-updates-for-aws-sdks-and-tools/\n",
      "  warnings.warn(warning, PythonDeprecationWarning)\n"
     ]
    }
   ],
   "source": [
    "account_id = boto3.client(\"sts\").get_caller_identity()[\"Account\"]"
   ]
  },
  {
   "cell_type": "code",
   "execution_count": 4,
   "metadata": {},
   "outputs": [],
   "source": [
    "#ses = sagemaker.Session()\n",
    "bucket = \"fashionstore-datalake-external-\" + str(account_id)"
   ]
  },
  {
   "cell_type": "code",
   "execution_count": 5,
   "metadata": {},
   "outputs": [],
   "source": [
    "boto3.Session().resource('s3').Bucket(bucket).Object(os.path.join('data','billing', 'billing_sm.csv')).upload_file('../data/billing_sm.csv')\n",
    "boto3.Session().resource('s3').Bucket(bucket).Object(os.path.join('data','reseller', 'reseller_sm.csv')).upload_file('../data/reseller_sm.csv')"
   ]
  },
  {
   "cell_type": "markdown",
   "metadata": {},
   "source": [
    "## 2. Creando un Crawler en Glue (creará 2 tablas en el esquema fashion_external)\n",
    "\n",
    "Para usar esta información en csv en el contexto de un ETL en Glue, primero se deben crear las tablas en Glue Data Catalog, para ello se crea un crawler en Glue que apunte a la carpeta data del bucket external en S3. El crawler intentará averiguar los tipos de datos de cada columna. \n",
    "\n",
    "Accedemos a Glue a la opción Crawler.\n",
    "Clic el enlace <a href='https://us-east-1.console.aws.amazon.com/glue/home?region=us-east-1#/v2/data-catalog/crawlers'> Link </a>       \n",
    "\n",
    "Clic en Create crawler.\n",
    "\n",
    "Asignamos el siguiente nombre : data_external y Next.\n",
    "\n",
    "<img src='img/c1.png' style='width:500px' />\n",
    "\n",
    "Clic en la opción Add a data source.\n",
    "\n",
    "<img src='img/c2.png' style='width:500px' />\n",
    "\n",
    "Seleccionamos la opción <br>\n",
    "Data Source : S3 <br>\n",
    "S3 path ingresamos : **s3://fashionstore-datalake-external-TUACCOUNTID/data/**\n",
    "\n",
    "Clic en Add an S3 data source.\n",
    "\n",
    "<img src='img/c3.png' style='width:300px' />\n",
    "\n",
    "Clic en Next.\n",
    "\n",
    "<img src='img/c20.png' style='width:500px' />\n",
    "\n",
    "Seleccionamos el rol : RoleGlue-fashionstore y clic en Next.\n",
    "\n",
    "<img src='img/c5.png' style='width:500px' />\n",
    "\n",
    "Seleccionamos el esquema donde se van a crear las tablas : fashion_external.\n",
    "\n",
    "<img src='img/c6.png' style='width:500px' />\n",
    "\n",
    "Clic en Create crawler.\n",
    "\n",
    "<img src='img/c7.png' style='width:500px' />\n",
    "\n",
    "Seleccionamos el crawler creado y clic en la opción Run.\n",
    "\n",
    "<img src='img/c8.png' style='width:500px' />\n",
    "\n",
    "<img src='img/c9.png' style='width:500px' />\n",
    "\n",
    "Después de un minuto, se deben haber creado 2 tablas en el esquema fashion_external.\n",
    "\n",
    "<img src='img/c10.png' style='width:500px' />"
   ]
  },
  {
   "cell_type": "markdown",
   "metadata": {},
   "source": [
    "## 4. Create Glue Job\n",
    "\n",
    "Para crear un job en Glue, clic en el siguiente enlace.\n",
    "\n",
    " <a href='https://us-east-1.console.aws.amazon.com/gluestudio/home?region=us-east-1#/jobs'> Link</a> \n"
   ]
  },
  {
   "cell_type": "markdown",
   "metadata": {},
   "source": [
    "Seleccionar : Spark script editor y clic en Create.\n",
    "\n",
    "<img src='img/c11.png' style='width:700px' />\n",
    "\n",
    "Asignamos el nombre al job : ETL_PIPELINE\n",
    "Y pegamos el contenido el código : ETL_PIPELINE.py\n",
    "\n",
    "<img src='img/c15.png' style='width:700px' />\n",
    "\n",
    "Clic en Job details y seleccionamos el rol : RoleGlue-fashionstore, y clic en Save.\n",
    "\n",
    "<img src='img/c13.png' style='width:700px' />    "
   ]
  },
  {
   "cell_type": "markdown",
   "metadata": {},
   "source": [
    "## 3. Crear un nuevo Step Machine en Step Function\n",
    "\n",
    "El rol ya debe estar creado.\n",
    "\n",
    "First you need to create a role that can be assumed by AWS Step Functions and have enough permissions to create and use for inference SageMaker models and run Glue Jobs. \n",
    "First, we are going to create a role that can be assumed by the service Step Functions and then we are going to modify it to add Administrator Access. You can name this role StepFunctionsAdmin\n",
    "\n",
    "<img src='img/iamstep.png' />\n"
   ]
  },
  {
   "cell_type": "code",
   "execution_count": 6,
   "metadata": {},
   "outputs": [],
   "source": [
    "from sagemaker import get_execution_role\n",
    "your_role = get_execution_role()"
   ]
  },
  {
   "cell_type": "code",
   "execution_count": null,
   "metadata": {},
   "outputs": [],
   "source": []
  },
  {
   "cell_type": "code",
   "execution_count": 8,
   "metadata": {},
   "outputs": [
    {
     "name": "stdout",
     "output_type": "stream",
     "text": [
      "{\n",
      "  \"Comment\": \"ML Pipeline\",\n",
      "  \"StartAt\": \"Start Glue Job\",\n",
      "  \"States\": {\n",
      "    \"Start Glue Job\": {\n",
      "      \"Type\": \"Task\",\n",
      "      \"Resource\": \"arn:aws:states:::glue:startJobRun.sync\",\n",
      "      \"Parameters\": {\n",
      "        \"JobName\": \"ETL_PIPELINE\"\n",
      "      },\n",
      "      \"Next\": \"Train model (XGBoost)\"\n",
      "    },\n",
      "    \"Train model (XGBoost)\": {\n",
      "      \"Resource\": \"arn:aws:states:::sagemaker:createTrainingJob.sync\",\n",
      "      \"Parameters\": {\n",
      "        \"AlgorithmSpecification\": {\n",
      "          \"TrainingImage\": \"811284229777.dkr.ecr.us-east-1.amazonaws.com/xgboost:latest\",\n",
      "          \"TrainingInputMode\": \"File\"\n",
      "        },\n",
      "        \"OutputDataConfig\": {\n",
      "          \"S3OutputPath\": \"s3://fashionstore-datalake-sm-971489366207/models\"\n",
      "        },\n",
      "        \"StoppingCondition\": {\n",
      "          \"MaxRuntimeInSeconds\": 86400\n",
      "        },\n",
      "        \"ResourceConfig\": {\n",
      "          \"InstanceCount\": 1,\n",
      "          \"InstanceType\": \"ml.m4.xlarge\",\n",
      "          \"VolumeSizeInGB\": 30\n",
      "        },\n",
      "        \"RoleArn\": \"arn:aws:iam::971489366207:role/StackFashionDataLake-rExecutionRoleSagemaker-KBAU8J3Y2XV7\",\n",
      "        \"InputDataConfig\": [\n",
      "          {\n",
      "            \"DataSource\": {\n",
      "              \"S3DataSource\": {\n",
      "                \"S3DataDistributionType\": \"ShardedByS3Key\",\n",
      "                \"S3DataType\": \"S3Prefix\",\n",
      "                \"S3Uri\": \"s3://fashionstore-datalake-sm-971489366207/train/train.csv\"\n",
      "              }\n",
      "            },\n",
      "            \"ChannelName\": \"train\",\n",
      "            \"ContentType\": \"text/csv\"\n",
      "          },\n",
      "          {\n",
      "            \"DataSource\": {\n",
      "              \"S3DataSource\": {\n",
      "                \"S3DataDistributionType\": \"ShardedByS3Key\",\n",
      "                \"S3DataType\": \"S3Prefix\",\n",
      "                \"S3Uri\": \"s3://fashionstore-datalake-sm-971489366207/validation/validation.csv\"\n",
      "              }\n",
      "            },\n",
      "            \"ChannelName\": \"validation\",\n",
      "            \"ContentType\": \"text/csv\"\n",
      "          }\n",
      "        ],\n",
      "        \"HyperParameters\": {\n",
      "          \"objective\": \"reg:linear\",\n",
      "          \"num_round\": \"100\",\n",
      "          \"subsample\": \"0.7\",\n",
      "          \"eval_metric\": \"mae\"\n",
      "        },\n",
      "        \"TrainingJobName.$\": \"$$.Execution.Name\"\n",
      "      },\n",
      "      \"Type\": \"Task\",\n",
      "      \"Next\": \"Save Model\"\n",
      "    },\n",
      "    \"Save Model\": {\n",
      "      \"Parameters\": {\n",
      "        \"PrimaryContainer\": {\n",
      "          \"Image\": \"811284229777.dkr.ecr.us-east-1.amazonaws.com/xgboost:latest\",\n",
      "          \"Environment\": {},\n",
      "          \"ModelDataUrl.$\": \"$.ModelArtifacts.S3ModelArtifacts\"\n",
      "        },\n",
      "        \"ExecutionRoleArn\": \"arn:aws:iam::971489366207:role/StackFashionDataLake-rExecutionRoleSagemaker-KBAU8J3Y2XV7\",\n",
      "        \"ModelName.$\": \"$.TrainingJobName\"\n",
      "      },\n",
      "      \"Resource\": \"arn:aws:states:::sagemaker:createModel\",\n",
      "      \"Type\": \"Task\",\n",
      "      \"Next\": \"Batch transform\"\n",
      "    },\n",
      "    \"Batch transform\": {\n",
      "      \"Type\": \"Task\",\n",
      "      \"Resource\": \"arn:aws:states:::sagemaker:createTransformJob.sync\",\n",
      "      \"Parameters\": {\n",
      "        \"ModelName.$\": \"$$.Execution.Name\",\n",
      "        \"TransformInput\": {\n",
      "          \"CompressionType\": \"None\",\n",
      "          \"ContentType\": \"text/csv\",\n",
      "          \"DataSource\": {\n",
      "            \"S3DataSource\": {\n",
      "              \"S3DataType\": \"S3Prefix\",\n",
      "              \"S3Uri\": \"s3://fashionstore-datalake-sm-971489366207/to_predict.csv\"\n",
      "            }\n",
      "          }\n",
      "        },\n",
      "        \"TransformOutput\": {\n",
      "          \"S3OutputPath\": \"s3://fashionstore-datalake-sm-971489366207/predictions\"\n",
      "        },\n",
      "        \"TransformResources\": {\n",
      "          \"InstanceCount\": 1,\n",
      "          \"InstanceType\": \"ml.m4.xlarge\"\n",
      "        },\n",
      "        \"TransformJobName.$\": \"$$.Execution.Name\"\n",
      "      },\n",
      "      \"End\": true\n",
      "    }\n",
      "  }\n",
      "}\n"
     ]
    }
   ],
   "source": [
    "definition = open('step_function.json', 'r').read().replace('your_role', your_role).replace('account_id', account_id)\n",
    "print(definition)"
   ]
  },
  {
   "cell_type": "code",
   "execution_count": null,
   "metadata": {},
   "outputs": [],
   "source": []
  },
  {
   "cell_type": "markdown",
   "metadata": {},
   "source": [
    "Ir al servicio de Step functions y crear un nuevo state machine.\n",
    "\n",
    "Clic el enlace <a href='https://us-east-1.console.aws.amazon.com/states/home?region=us-east-1#/statemachines'> Link </a> \n",
    "\n",
    "Clic en Create state machine\n",
    "\n",
    "Seleccionar : Write your workflow in code\n",
    "Y pegamos el json en el bloque Definition.\n",
    "\n",
    "Clic en Next.\n",
    "\n",
    "<img src='img/c100.png' style='width:500px' />\n",
    "\n",
    "Asignamos un nombre : **sf-external-fashionstore-ml**\n",
    "\n",
    "Elegir el rol : RoleSM-fashionstore-datalake.\n",
    "\n",
    "\n"
   ]
  },
  {
   "cell_type": "markdown",
   "metadata": {},
   "source": [
    "Ejecutamos el state machine creado, clic en Start execution.\n",
    "\n",
    "<img src='img/c21.png' style='width:500px' />\n",
    "\n",
    "Y se empieza a ejecutar el pipeline.\n",
    "\n",
    "<img src='img/c101.png' style='width:500px' />\n",
    "\n",
    "Si nos vamos a Glue la opción Jobs, vemos que se ha iniciado la ejecución.\n",
    "\n",
    "<img src='img/c102.png' style='width:500px' />"
   ]
  },
  {
   "cell_type": "code",
   "execution_count": null,
   "metadata": {},
   "outputs": [],
   "source": []
  },
  {
   "cell_type": "code",
   "execution_count": null,
   "metadata": {},
   "outputs": [],
   "source": []
  },
  {
   "cell_type": "code",
   "execution_count": null,
   "metadata": {},
   "outputs": [],
   "source": []
  },
  {
   "cell_type": "markdown",
   "metadata": {},
   "source": [
    "Check <a href='https://console.aws.amazon.com/glue/home?region=us-east-1#etl:tab=jobs'> Glue </a> for job logs and\n",
    "<a href='https://console.aws.amazon.com/sagemaker/home?region=us-east-1#/jobs'> SageMaker </a> to see the training job, the model that you created and the batch transform process. \n",
    "\n",
    "After you step function finishes the execution, you should see the graph turning to green:\n",
    "\n",
    "<img src='img/step.png' style='width:500px' />\n",
    "\n",
    "Ahora podemos revisar las predicciones en S3.\n",
    "<a href='https://s3.console.aws.amazon.com/s3/home?region=us-east-1'>S3</a>."
   ]
  }
 ],
 "metadata": {
  "kernelspec": {
   "display_name": "conda_python3",
   "language": "python",
   "name": "conda_python3"
  },
  "language_info": {
   "codemirror_mode": {
    "name": "ipython",
    "version": 3
   },
   "file_extension": ".py",
   "mimetype": "text/x-python",
   "name": "python",
   "nbconvert_exporter": "python",
   "pygments_lexer": "ipython3",
   "version": "3.6.13"
  }
 },
 "nbformat": 4,
 "nbformat_minor": 4
}
